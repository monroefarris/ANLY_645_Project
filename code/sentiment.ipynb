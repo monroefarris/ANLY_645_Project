{
 "cells": [
  {
   "cell_type": "code",
   "execution_count": 2,
   "metadata": {},
   "outputs": [
    {
     "name": "stderr",
     "output_type": "stream",
     "text": [
      "[nltk_data] Downloading package vader_lexicon to\n",
      "[nltk_data]     /Users/matttsang/nltk_data...\n"
     ]
    }
   ],
   "source": [
    "import nltk\n",
    "from nltk.sentiment.vader import SentimentIntensityAnalyzer\n",
    "nltk.download('vader_lexicon')\n",
    "import pandas as pd\n"
   ]
  },
  {
   "cell_type": "code",
   "execution_count": 3,
   "metadata": {},
   "outputs": [
    {
     "name": "stdout",
     "output_type": "stream",
     "text": [
      "   Episode  Day  Speaker                                               Text\n",
      "0        1    1     Rudy  Paddling over, uh, we had two or three of thos...\n",
      "1        1    1    Kelly  He was yelling at everybody “Let's lose the bo...\n",
      "2        1    1   Ramona  I don't like being on the water all that much....\n",
      "3        1    1     Dirk  Rich, um, I appreciate what he's trying to do ...\n",
      "4        1    1  Richard  I'm good to go survival wise. People wise, it'...\n"
     ]
    }
   ],
   "source": [
    "data_dir = \"../data/\"\n",
    "season = \"season_1\"\n",
    "\n",
    "conf_data = pd.read_csv(data_dir + season + '/confessionals_season_1.csv')\n",
    "print(conf_data.head())"
   ]
  },
  {
   "cell_type": "code",
   "execution_count": 31,
   "metadata": {},
   "outputs": [
    {
     "name": "stdout",
     "output_type": "stream",
     "text": [
      "     Episode  Day  Speaker                                               Text  \\\n",
      "0          1    1     Rudy  Paddling over, uh, we had two or three of thos...   \n",
      "1          1    1    Kelly  He was yelling at everybody “Let's lose the bo...   \n",
      "2          1    1   Ramona  I don't like being on the water all that much....   \n",
      "3          1    1     Dirk  Rich, um, I appreciate what he's trying to do ...   \n",
      "4          1    1  Richard  I'm good to go survival wise. People wise, it'...   \n",
      "..       ...  ...      ...                                                ...   \n",
      "652       13   39    Kelly  But it's been really hard, mentally. Just... p...   \n",
      "653       13   39    Kelly  There's been some... moral low points for me i...   \n",
      "654       13   39  Richard  I think it might have been cathartic for Kelly...   \n",
      "655       13   39    Kelly  I'm really grateful I'm here. Um... I feel luc...   \n",
      "656       13   39  Richard  If I get second place I will not be sad. I wil...   \n",
      "\n",
      "                                                scores  compound comp_score  \n",
      "0    {'neg': 0.168, 'neu': 0.809, 'pos': 0.023, 'co...   -0.8313   negative  \n",
      "1    {'neg': 0.158, 'neu': 0.842, 'pos': 0.0, 'comp...   -0.5624   negative  \n",
      "2    {'neg': 0.143, 'neu': 0.828, 'pos': 0.029, 'co...   -0.7543   negative  \n",
      "3    {'neg': 0.102, 'neu': 0.673, 'pos': 0.225, 'co...    0.7506   positive  \n",
      "4    {'neg': 0.074, 'neu': 0.743, 'pos': 0.183, 'co...    0.8159   positive  \n",
      "..                                                 ...       ...        ...  \n",
      "652  {'neg': 0.078, 'neu': 0.922, 'pos': 0.0, 'comp...   -0.1761   negative  \n",
      "653  {'neg': 0.047, 'neu': 0.913, 'pos': 0.04, 'com...   -0.0772   negative  \n",
      "654  {'neg': 0.0, 'neu': 1.0, 'pos': 0.0, 'compound...    0.0000   positive  \n",
      "655  {'neg': 0.051, 'neu': 0.721, 'pos': 0.228, 'co...    0.9376   positive  \n",
      "656  {'neg': 0.0, 'neu': 0.665, 'pos': 0.335, 'comp...    0.9284   positive  \n",
      "\n",
      "[657 rows x 7 columns]\n"
     ]
    }
   ],
   "source": [
    "# basic VADER sentiment analysis \n",
    "sid = SentimentIntensityAnalyzer()\n",
    "conf_data['scores'] = conf_data['Text'].apply(lambda review: sid.polarity_scores(review))\n",
    "\n",
    "# getting aggregate score for the confessional\n",
    "conf_data['compound']  = conf_data['scores'].apply(lambda score_dict: score_dict['compound'])\n",
    "\n",
    "# binning aggregate score into either positive or negative \n",
    "conf_data['comp_score'] = conf_data['compound'].apply(lambda c: 'positive' if c >=0 else 'negative')\n",
    "print(conf_data)"
   ]
  },
  {
   "cell_type": "code",
   "execution_count": 39,
   "metadata": {},
   "outputs": [
    {
     "name": "stdout",
     "output_type": "stream",
     "text": [
      "     Speaker  compound\n",
      "0       B.B. -0.024155\n",
      "1    Colleen  0.333902\n",
      "2       Dirk  0.456345\n",
      "3    Gervase  0.310037\n",
      "4       Greg  0.542760\n",
      "5   Gretchen  0.188720\n",
      "6      Jenna  0.215362\n",
      "7       Joel  0.060318\n",
      "8      Kelly  0.284576\n",
      "9     Ramona  0.161042\n",
      "10   Richard  0.325105\n",
      "11      Rudy  0.052476\n",
      "12      Sean  0.228949\n",
      "13     Sonja  0.542600\n",
      "14    Stacey -0.005578\n",
      "15     Susan  0.204268\n",
      "     Speaker comp_score  counts\n",
      "0       B.B.   negative       5\n",
      "1       B.B.   positive       6\n",
      "2    Colleen   negative      11\n",
      "3    Colleen   positive      43\n",
      "4       Dirk   negative       3\n",
      "5       Dirk   positive       8\n",
      "6    Gervase   negative      12\n",
      "7    Gervase   positive      44\n",
      "8       Greg   negative       3\n",
      "9       Greg   positive      32\n",
      "10  Gretchen   negative      10\n",
      "11  Gretchen   positive      25\n",
      "12     Jenna   negative      11\n",
      "13     Jenna   positive      36\n",
      "14      Joel   negative       8\n",
      "15      Joel   positive      14\n",
      "16     Kelly   negative      20\n",
      "17     Kelly   positive      65\n",
      "18    Ramona   negative       8\n",
      "19    Ramona   positive      11\n",
      "20   Richard   negative      17\n",
      "21   Richard   positive      75\n",
      "22      Rudy   negative      18\n",
      "23      Rudy   positive      33\n",
      "24      Sean   negative      19\n",
      "25      Sean   positive      38\n",
      "26     Sonja   positive       2\n",
      "27    Stacey   negative       6\n",
      "28    Stacey   positive       3\n",
      "29     Susan   negative      17\n",
      "30     Susan   positive      54\n"
     ]
    }
   ],
   "source": [
    "# average sentiment score of a player's confessionals for a season\n",
    "avg_sentiment = conf_data.groupby('Speaker')['compound'].mean().reset_index()\n",
    "print(avg_sentiment[['Speaker', 'compound']])\n",
    "\n",
    "# number of confessionals over the course of a season by language bin\n",
    "lang_overall = conf_data.groupby(['Speaker', 'comp_score']).count().reset_index()\n",
    "lang_overall = lang_overall.rename(columns = {'compound': 'counts'})\n",
    "print(lang_overall[['Speaker', 'comp_score', 'counts']])"
   ]
  }
 ],
 "metadata": {
  "interpreter": {
   "hash": "aa3086612d71023ea6bd20cc6c5bbcf1cbba35b1e4a01dc87ce94ea3ec71eb10"
  },
  "kernelspec": {
   "display_name": "Python 3 (ipykernel)",
   "language": "python",
   "name": "python3"
  },
  "language_info": {
   "codemirror_mode": {
    "name": "ipython",
    "version": 3
   },
   "file_extension": ".py",
   "mimetype": "text/x-python",
   "name": "python",
   "nbconvert_exporter": "python",
   "pygments_lexer": "ipython3",
   "version": "3.9.12"
  }
 },
 "nbformat": 4,
 "nbformat_minor": 4
}
